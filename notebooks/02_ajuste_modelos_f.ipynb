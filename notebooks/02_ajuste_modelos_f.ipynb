{
 "cells": [
  {
   "cell_type": "markdown",
   "id": "continued-traffic",
   "metadata": {},
   "source": [
    "# Ajuste de Modelo "
   ]
  },
  {
   "cell_type": "code",
   "execution_count": 1,
   "id": "baking-travel",
   "metadata": {},
   "outputs": [],
   "source": [
    "#Cargando librerías y estableciendo rutas\n",
    "import pandas as pd\n",
    "import numpy as np\n",
    "from sklearn.model_selection import train_test_split, RandomizedSearchCV\n",
    "from sklearn import preprocessing, svm, metrics, tree, decomposition, svm\n",
    "from sklearn.model_selection import cross_validate\n",
    "from sklearn.ensemble import RandomForestClassifier, ExtraTreesClassifier, GradientBoostingClassifier, AdaBoostClassifier\n",
    "from sklearn.linear_model import LogisticRegression, Perceptron, SGDClassifier, OrthogonalMatchingPursuit\n",
    "from sklearn.neighbors import NearestCentroid\n",
    "from sklearn.naive_bayes import GaussianNB, MultinomialNB, BernoulliNB\n",
    "from sklearn.tree import DecisionTreeClassifier\n",
    "from sklearn.neighbors import KNeighborsClassifier\n",
    "from sklearn.model_selection import ParameterGrid\n",
    "from sklearn.metrics import *\n",
    "from sklearn.preprocessing import StandardScaler\n",
    "from sklearn.ensemble import RandomForestClassifier\n",
    "from sklearn.model_selection import GridSearchCV\n"
   ]
  },
  {
   "cell_type": "code",
   "execution_count": 2,
   "id": "compound-reach",
   "metadata": {},
   "outputs": [],
   "source": [
    "PATH = '/home/fernanda/Documents/Projects/data_product_architecture_2021/'\n",
    "df = pd.read_pickle(PATH+\"data_fe.pkl\")"
   ]
  },
  {
   "cell_type": "markdown",
   "id": "liable-flush",
   "metadata": {},
   "source": [
    "# DECLARAMOS FUNCIONES INICIALES"
   ]
  },
  {
   "cell_type": "code",
   "execution_count": 4,
   "id": "proprietary-clear",
   "metadata": {},
   "outputs": [],
   "source": [
    "def define_clfs_params():\n",
    "\n",
    "    clfs = {'RF': RandomForestClassifier(random_state=0),\n",
    "        'AB': AdaBoostClassifier(DecisionTreeClassifier(max_depth=1), algorithm=\"SAMME\", n_estimators=200,random_state=0),\n",
    "        'LR': LogisticRegression(random_state=0),\n",
    "        'SVM': svm.SVC(probability=True, random_state=0),\n",
    "        'GB': GradientBoostingClassifier(random_state=0),\n",
    "        'NB': GaussianNB(),\n",
    "        'DT': DecisionTreeClassifier(random_state=0),\n",
    "        'KNN': KNeighborsClassifier(n_neighbors=3) \n",
    "            }\n",
    "\n",
    "    grid = { \n",
    "    'RF':{'n_estimators': [10,100], 'max_depth': [2,5], 'max_features': [0.1, 0.2],'min_samples_split': [2,5]},\n",
    "    'LR': { 'penalty': ['l2'], 'C': [0.00001, 0.0001,0.001,0.01,0.1,1,2,5,7,10,20]},\n",
    "    'AB': { 'algorithm': ['SAMME', 'SAMME.R'], 'n_estimators': [1,2,10,50,100]},\n",
    "    'GB': {'n_estimators': [1,10], 'learning_rate' : [0.001,0.1,0.5],'subsample' : [0.1,0.5], 'max_depth': [5,10]},\n",
    "    'NB' : {},\n",
    "    'SVM' :{'C' :[0.001,0.1,10],'kernel':['linear']},\n",
    "    'KNN' :{'n_neighbors': [5,10,25],'weights': ['uniform','distance'],'algorithm': ['auto','kd_tree']}\n",
    "           }\n",
    "    return clfs, grid\n",
    "\n",
    "\n",
    "\n",
    "def clf_loop(models_to_run, clfs, grid, X_train, X_test, y_train,y_test, search):\n",
    "    diccionario=dict()\n",
    "    for n in range(1, 2):\n",
    "        for index,clf in enumerate([clfs[x] for x in models_to_run]):\n",
    "            parameter_values = grid[models_to_run[index]] #diccionario de parametros\n",
    "            #En esta parte debemos usas parameter_values sobre el grid o randomSearch\n",
    "            #asi veremos cual es la mejor prediccion del modelo\n",
    "\n",
    "            try:\n",
    "                if(search == 'random'):\n",
    "                    print(models_to_run[index])\n",
    "                    print('MODELO: {}'.format(clf))\n",
    "                    print('PARAMETER: {}'.format(parameter_values))\n",
    "                    random_search = RandomizedSearchCV(clf, parameter_values)\n",
    "                    rand_ent= random_search.fit(X_train, y_train)\n",
    "                    rand_ent.best_params_\n",
    "                    rand_ent.best_score_\n",
    "                    rand_ent.best_estimator_\n",
    "                    diccionario[models_to_run[index]]=dict()\n",
    "                    diccionario[models_to_run[index]]['estimator']=rand_ent.best_estimator_\n",
    "                    diccionario[models_to_run[index]]['score']=rand_ent.best_score_\n",
    "                    diccionario[models_to_run[index]]['parametros']=rand_ent.best_params_\n",
    "                    diccionario[models_to_run[index]]['total']= rand_ent\n",
    "                    print('BEST ESTIMATOR: {}'.format( random_search.best_estimator_))\n",
    "\n",
    "\n",
    "                elif(search=='grid'):\n",
    "                    print(models_to_run[index])\n",
    "                    print('MODELO: {}'.format(clf))\n",
    "                    print('PARAMETER: {}'.format(parameter_values))\n",
    "                    grid_search = GridSearchCV(clf, parameter_values, cv = 5)\n",
    "                    gri_ent = grid_search.fit(X_train, y_train)\n",
    "                    gri_ent.best_params_\n",
    "                    gri_ent.best_score_\n",
    "                    gri_ent.best_estimator_\n",
    "                    diccionario[models_to_run[index]]=dict()\n",
    "                    diccionario[models_to_run[index]]['estimator']=gri_ent.best_estimator_\n",
    "                    diccionario[models_to_run[index]]['score']=gri_ent.best_score_\n",
    "                    diccionario[models_to_run[index]]['parametros']=gri_ent.best_params_\n",
    "                    diccionario[models_to_run[index]]['total']= gri_ent\n",
    "                    print('BEST ESTIMATOR: {}'.format( grid_search.best_estimator_)) \n",
    "                else:\n",
    "                    print('search incorrecto')\n",
    "\n",
    "            except Exception as e:\n",
    "                print('Error:',e)\n",
    "                continue\n",
    "    return(diccionario)\n",
    "\n",
    "\n",
    "def precision_at_k(y_true, y_scores, k):\n",
    "    threshold = np.sort(y_scores)[::-1][int(k*len(y_scores))]\n",
    "    y_pred = np.asarray([1 if i >= threshold else 0 for i in y_scores])\n",
    "    return metrics.precision_score(y_true, y_pred)\n",
    "\n",
    "\n"
   ]
  },
  {
   "cell_type": "markdown",
   "id": "upper-association",
   "metadata": {},
   "source": [
    "# Declaramos lo que se aplicará al correr el magic loop"
   ]
  },
  {
   "cell_type": "code",
   "execution_count": 5,
   "id": "preceding-armenia",
   "metadata": {},
   "outputs": [],
   "source": [
    "def run_magic_loop(df):\n",
    "\n",
    "    df_train = df[df['ind_train']==1]\n",
    "    df_test = df[df['ind_train']==0]\n",
    "\n",
    "    x_train=df_train.drop('label',axis=1)\n",
    "    x_test=df_test.drop('label',axis=1)\n",
    "\n",
    "    y_train=df_train['label']\n",
    "    y_test=df_test['label']\n",
    "    \n",
    "    from timeit import default_timer as timer\n",
    "    clfs,grid=define_clfs_params()\n",
    "    model_to_run=['RF']\n",
    "    start = timer()\n",
    "    dict_models = clf_loop(model_to_run, clfs, grid,x_train, x_test, y_train,y_test,  'random')\n",
    "    end=timer()\n",
    "    tiempo = end-start\n",
    "    d = {'descripcion': ['registros train',\n",
    "                         'registros test', \n",
    "                         'tiempo',\n",
    "                         'modelos']\n",
    "                        , 'valor': [x_train.shape[0],\n",
    "                                    x_test.shape[0],\n",
    "                                    tiempo,\n",
    "                                    model_to_run]}\n",
    "    metadata_ml = pd.DataFrame(data=d) \n",
    "    return dict_models, metadata_ml\n",
    "    \n",
    "    "
   ]
  },
  {
   "cell_type": "markdown",
   "id": "normal-transcription",
   "metadata": {},
   "source": [
    "# ejemplo de ejecución"
   ]
  },
  {
   "cell_type": "code",
   "execution_count": 8,
   "id": "acting-combining",
   "metadata": {},
   "outputs": [
    {
     "name": "stdout",
     "output_type": "stream",
     "text": [
      "RF\n",
      "MODELO: RandomForestClassifier(random_state=0)\n",
      "PARAMETER: {'n_estimators': [10, 100], 'max_depth': [2, 5], 'max_features': [0.1, 0.2], 'min_samples_split': [2, 5]}\n",
      "BEST ESTIMATOR: RandomForestClassifier(max_depth=5, max_features=0.2, min_samples_split=5,\n",
      "                       n_estimators=10, random_state=0)\n"
     ]
    }
   ],
   "source": [
    "resultados_magic_loop, metadata= run_magic_loop(df)"
   ]
  },
  {
   "cell_type": "code",
   "execution_count": 9,
   "id": "another-netscape",
   "metadata": {},
   "outputs": [
    {
     "data": {
      "text/html": [
       "<div>\n",
       "<style scoped>\n",
       "    .dataframe tbody tr th:only-of-type {\n",
       "        vertical-align: middle;\n",
       "    }\n",
       "\n",
       "    .dataframe tbody tr th {\n",
       "        vertical-align: top;\n",
       "    }\n",
       "\n",
       "    .dataframe thead th {\n",
       "        text-align: right;\n",
       "    }\n",
       "</style>\n",
       "<table border=\"1\" class=\"dataframe\">\n",
       "  <thead>\n",
       "    <tr style=\"text-align: right;\">\n",
       "      <th></th>\n",
       "      <th>descripcion</th>\n",
       "      <th>valor</th>\n",
       "    </tr>\n",
       "  </thead>\n",
       "  <tbody>\n",
       "    <tr>\n",
       "      <th>0</th>\n",
       "      <td>registros train</td>\n",
       "      <td>138014</td>\n",
       "    </tr>\n",
       "    <tr>\n",
       "      <th>1</th>\n",
       "      <td>registros test</td>\n",
       "      <td>46005</td>\n",
       "    </tr>\n",
       "    <tr>\n",
       "      <th>2</th>\n",
       "      <td>tiempo</td>\n",
       "      <td>180.251991</td>\n",
       "    </tr>\n",
       "    <tr>\n",
       "      <th>3</th>\n",
       "      <td>modelos</td>\n",
       "      <td>[RF]</td>\n",
       "    </tr>\n",
       "  </tbody>\n",
       "</table>\n",
       "</div>"
      ],
      "text/plain": [
       "       descripcion       valor\n",
       "0  registros train      138014\n",
       "1   registros test       46005\n",
       "2           tiempo  180.251991\n",
       "3          modelos        [RF]"
      ]
     },
     "execution_count": 9,
     "metadata": {},
     "output_type": "execute_result"
    }
   ],
   "source": [
    "metadata"
   ]
  },
  {
   "cell_type": "markdown",
   "id": "improving-anchor",
   "metadata": {},
   "source": [
    "# asignamos a modelo_f el mejor modelo de Random Forest (RF)"
   ]
  },
  {
   "cell_type": "code",
   "execution_count": 11,
   "id": "postal-london",
   "metadata": {},
   "outputs": [],
   "source": [
    "modelo_f = resultados_magic_loop['RF']['total']"
   ]
  },
  {
   "cell_type": "markdown",
   "id": "settled-determination",
   "metadata": {},
   "source": [
    "# utilizamos esto para predecir"
   ]
  },
  {
   "cell_type": "code",
   "execution_count": 13,
   "id": "medieval-navigator",
   "metadata": {},
   "outputs": [],
   "source": [
    "df_train = df[df['ind_train']==1]\n",
    "df_test = df[df['ind_train']==0]\n",
    "\n",
    "x_train=df_train.drop('label',axis=1)\n",
    "x_test=df_test.drop('label',axis=1)\n",
    "\n",
    "\n",
    "y_pred_train = modelo_f.predict(x_train)\n",
    "y_pred_test = modelo_f.predict(x_test)"
   ]
  },
  {
   "cell_type": "code",
   "execution_count": 14,
   "id": "applied-voice",
   "metadata": {},
   "outputs": [
    {
     "data": {
      "text/plain": [
       "0.13513748505597217"
      ]
     },
     "execution_count": 14,
     "metadata": {},
     "output_type": "execute_result"
    }
   ],
   "source": [
    "y_pred_test.mean()"
   ]
  },
  {
   "cell_type": "code",
   "execution_count": 15,
   "id": "induced-national",
   "metadata": {},
   "outputs": [
    {
     "data": {
      "text/plain": [
       "0.13437042618864753"
      ]
     },
     "execution_count": 15,
     "metadata": {},
     "output_type": "execute_result"
    }
   ],
   "source": [
    "y_pred_train.mean()"
   ]
  },
  {
   "cell_type": "code",
   "execution_count": null,
   "id": "elder-cover",
   "metadata": {},
   "outputs": [],
   "source": []
  }
 ],
 "metadata": {
  "kernelspec": {
   "display_name": "Python 3",
   "language": "python",
   "name": "python3"
  },
  "language_info": {
   "codemirror_mode": {
    "name": "ipython",
    "version": 3
   },
   "file_extension": ".py",
   "mimetype": "text/x-python",
   "name": "python",
   "nbconvert_exporter": "python",
   "pygments_lexer": "ipython3",
   "version": "3.9.0"
  }
 },
 "nbformat": 4,
 "nbformat_minor": 5
}
