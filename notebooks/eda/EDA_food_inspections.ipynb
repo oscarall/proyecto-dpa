{
 "cells": [
  {
   "cell_type": "markdown",
   "metadata": {},
   "source": [
    "# Exploratory Data Analysis "
   ]
  },
  {
   "cell_type": "markdown",
   "metadata": {},
   "source": [
    "### Cargando librerías y estableciendo rutas"
   ]
  },
  {
   "cell_type": "code",
   "execution_count": 1,
   "metadata": {
    "collapsed": false,
    "jupyter": {
     "outputs_hidden": false
    }
   },
   "outputs": [],
   "source": [
    "import pandas as pd\n",
    "import numpy as np\n",
    "import matplotlib.pyplot as plt\n",
    "import matplotlib.ticker as mtick\n",
    "import seaborn as sns\n",
    "from datetime import datetime"
   ]
  },
  {
   "cell_type": "code",
   "execution_count": 2,
   "metadata": {},
   "outputs": [],
   "source": [
    "%matplotlib inline"
   ]
  },
  {
   "cell_type": "code",
   "execution_count": 3,
   "metadata": {},
   "outputs": [],
   "source": [
    "PATH = '/Users/sergiosars/Documents/MCD/DPA/data/'"
   ]
  },
  {
   "cell_type": "markdown",
   "metadata": {},
   "source": [
    "### Leyendo archivo"
   ]
  },
  {
   "cell_type": "code",
   "execution_count": 4,
   "metadata": {
    "collapsed": false,
    "jupyter": {
     "outputs_hidden": false
    }
   },
   "outputs": [],
   "source": [
    "inspect_df = pd.read_csv(PATH+'Food_Inspections.csv')"
   ]
  },
  {
   "cell_type": "code",
   "execution_count": 5,
   "metadata": {
    "collapsed": false,
    "jupyter": {
     "outputs_hidden": false
    }
   },
   "outputs": [
    {
     "data": {
      "text/html": [
       "<div>\n",
       "<style scoped>\n",
       "    .dataframe tbody tr th:only-of-type {\n",
       "        vertical-align: middle;\n",
       "    }\n",
       "\n",
       "    .dataframe tbody tr th {\n",
       "        vertical-align: top;\n",
       "    }\n",
       "\n",
       "    .dataframe thead th {\n",
       "        text-align: right;\n",
       "    }\n",
       "</style>\n",
       "<table border=\"1\" class=\"dataframe\">\n",
       "  <thead>\n",
       "    <tr style=\"text-align: right;\">\n",
       "      <th></th>\n",
       "      <th>Inspection ID</th>\n",
       "      <th>DBA Name</th>\n",
       "      <th>AKA Name</th>\n",
       "      <th>License #</th>\n",
       "      <th>Facility Type</th>\n",
       "      <th>Risk</th>\n",
       "      <th>Address</th>\n",
       "      <th>City</th>\n",
       "      <th>State</th>\n",
       "      <th>Zip</th>\n",
       "      <th>Inspection Date</th>\n",
       "      <th>Inspection Type</th>\n",
       "      <th>Results</th>\n",
       "      <th>Violations</th>\n",
       "      <th>Latitude</th>\n",
       "      <th>Longitude</th>\n",
       "      <th>Location</th>\n",
       "    </tr>\n",
       "  </thead>\n",
       "  <tbody>\n",
       "    <tr>\n",
       "      <th>0</th>\n",
       "      <td>2472391</td>\n",
       "      <td>PHILZ COFFEE</td>\n",
       "      <td>PHILZ COFFEE</td>\n",
       "      <td>2766979.0</td>\n",
       "      <td>NaN</td>\n",
       "      <td>Risk 2 (Medium)</td>\n",
       "      <td>1555 N WELLS ST</td>\n",
       "      <td>CHICAGO</td>\n",
       "      <td>IL</td>\n",
       "      <td>60610.0</td>\n",
       "      <td>01/07/2021</td>\n",
       "      <td>License</td>\n",
       "      <td>Not Ready</td>\n",
       "      <td>NaN</td>\n",
       "      <td>41.910736</td>\n",
       "      <td>-87.634551</td>\n",
       "      <td>(-87.63455069145124, 41.910736031820235)</td>\n",
       "    </tr>\n",
       "    <tr>\n",
       "      <th>1</th>\n",
       "      <td>2453551</td>\n",
       "      <td>BIAN</td>\n",
       "      <td>BIAN</td>\n",
       "      <td>2744753.0</td>\n",
       "      <td>Restaurant</td>\n",
       "      <td>Risk 1 (High)</td>\n",
       "      <td>600 W CHICAGO AVE</td>\n",
       "      <td>CHICAGO</td>\n",
       "      <td>IL</td>\n",
       "      <td>60654.0</td>\n",
       "      <td>10/20/2020</td>\n",
       "      <td>License</td>\n",
       "      <td>Pass</td>\n",
       "      <td>NaN</td>\n",
       "      <td>41.896585</td>\n",
       "      <td>-87.642996</td>\n",
       "      <td>(-87.64299618172501, 41.896585191199556)</td>\n",
       "    </tr>\n",
       "    <tr>\n",
       "      <th>2</th>\n",
       "      <td>2386633</td>\n",
       "      <td>JIN JU</td>\n",
       "      <td>JIN JU</td>\n",
       "      <td>27137.0</td>\n",
       "      <td>Restaurant</td>\n",
       "      <td>Risk 1 (High)</td>\n",
       "      <td>5203 N CLARK ST</td>\n",
       "      <td>CHICAGO</td>\n",
       "      <td>IL</td>\n",
       "      <td>60640.0</td>\n",
       "      <td>08/28/2020</td>\n",
       "      <td>Canvass</td>\n",
       "      <td>No Entry</td>\n",
       "      <td>NaN</td>\n",
       "      <td>41.976301</td>\n",
       "      <td>-87.668276</td>\n",
       "      <td>(-87.66827593789948, 41.97630115368914)</td>\n",
       "    </tr>\n",
       "    <tr>\n",
       "      <th>3</th>\n",
       "      <td>2386595</td>\n",
       "      <td>LA BIZNAGA #2</td>\n",
       "      <td>LA BIZNAGA #2</td>\n",
       "      <td>2708992.0</td>\n",
       "      <td>NaN</td>\n",
       "      <td>Risk 1 (High)</td>\n",
       "      <td>2949 W BELMONT AVE</td>\n",
       "      <td>CHICAGO</td>\n",
       "      <td>IL</td>\n",
       "      <td>60618.0</td>\n",
       "      <td>08/27/2020</td>\n",
       "      <td>Complaint</td>\n",
       "      <td>No Entry</td>\n",
       "      <td>NaN</td>\n",
       "      <td>41.939256</td>\n",
       "      <td>-87.702270</td>\n",
       "      <td>(-87.70226967930802, 41.939255926667535)</td>\n",
       "    </tr>\n",
       "    <tr>\n",
       "      <th>4</th>\n",
       "      <td>2386523</td>\n",
       "      <td>MC DONALD'S</td>\n",
       "      <td>MC DONALD'S</td>\n",
       "      <td>2560785.0</td>\n",
       "      <td>Restaurant</td>\n",
       "      <td>Risk 2 (Medium)</td>\n",
       "      <td>6336 S ASHLAND AVE</td>\n",
       "      <td>CHICAGO</td>\n",
       "      <td>IL</td>\n",
       "      <td>60636.0</td>\n",
       "      <td>08/26/2020</td>\n",
       "      <td>Short Form Complaint</td>\n",
       "      <td>Pass</td>\n",
       "      <td>NaN</td>\n",
       "      <td>41.778361</td>\n",
       "      <td>-87.664337</td>\n",
       "      <td>(-87.66433686342792, 41.77836097603761)</td>\n",
       "    </tr>\n",
       "  </tbody>\n",
       "</table>\n",
       "</div>"
      ],
      "text/plain": [
       "   Inspection ID       DBA Name       AKA Name  License # Facility Type  \\\n",
       "0        2472391   PHILZ COFFEE   PHILZ COFFEE  2766979.0           NaN   \n",
       "1        2453551           BIAN           BIAN  2744753.0    Restaurant   \n",
       "2        2386633         JIN JU         JIN JU    27137.0    Restaurant   \n",
       "3        2386595  LA BIZNAGA #2  LA BIZNAGA #2  2708992.0           NaN   \n",
       "4        2386523    MC DONALD'S    MC DONALD'S  2560785.0    Restaurant   \n",
       "\n",
       "              Risk              Address     City State      Zip  \\\n",
       "0  Risk 2 (Medium)     1555 N WELLS ST   CHICAGO    IL  60610.0   \n",
       "1    Risk 1 (High)   600 W CHICAGO AVE   CHICAGO    IL  60654.0   \n",
       "2    Risk 1 (High)     5203 N CLARK ST   CHICAGO    IL  60640.0   \n",
       "3    Risk 1 (High)  2949 W BELMONT AVE   CHICAGO    IL  60618.0   \n",
       "4  Risk 2 (Medium)  6336 S ASHLAND AVE   CHICAGO    IL  60636.0   \n",
       "\n",
       "  Inspection Date       Inspection Type    Results Violations   Latitude  \\\n",
       "0      01/07/2021               License  Not Ready        NaN  41.910736   \n",
       "1      10/20/2020               License       Pass        NaN  41.896585   \n",
       "2      08/28/2020               Canvass   No Entry        NaN  41.976301   \n",
       "3      08/27/2020             Complaint   No Entry        NaN  41.939256   \n",
       "4      08/26/2020  Short Form Complaint       Pass        NaN  41.778361   \n",
       "\n",
       "   Longitude                                  Location  \n",
       "0 -87.634551  (-87.63455069145124, 41.910736031820235)  \n",
       "1 -87.642996  (-87.64299618172501, 41.896585191199556)  \n",
       "2 -87.668276   (-87.66827593789948, 41.97630115368914)  \n",
       "3 -87.702270  (-87.70226967930802, 41.939255926667535)  \n",
       "4 -87.664337   (-87.66433686342792, 41.77836097603761)  "
      ]
     },
     "execution_count": 5,
     "metadata": {},
     "output_type": "execute_result"
    }
   ],
   "source": [
    "inspect_df.head()"
   ]
  },
  {
   "cell_type": "markdown",
   "metadata": {},
   "source": [
    "### Datos básicos de la base"
   ]
  },
  {
   "cell_type": "code",
   "execution_count": 6,
   "metadata": {
    "collapsed": false,
    "jupyter": {
     "outputs_hidden": false
    }
   },
   "outputs": [
    {
     "name": "stdout",
     "output_type": "stream",
     "text": [
      "Número de observaciones: 215130\n",
      "Número de columnas: 17\n"
     ]
    }
   ],
   "source": [
    "# dimensiones de la base\n",
    "# número de registros\n",
    "print(\"Número de observaciones:\", inspect_df.shape[0])\n",
    "# número de columnas\n",
    "print(\"Número de columnas:\", len(inspect_df.columns))"
   ]
  },
  {
   "cell_type": "code",
   "execution_count": 7,
   "metadata": {
    "collapsed": false,
    "jupyter": {
     "outputs_hidden": false
    }
   },
   "outputs": [
    {
     "data": {
      "text/plain": [
       "Index(['Inspection ID', 'DBA Name', 'AKA Name', 'License #', 'Facility Type',\n",
       "       'Risk', 'Address', 'City', 'State', 'Zip', 'Inspection Date',\n",
       "       'Inspection Type', 'Results', 'Violations', 'Latitude', 'Longitude',\n",
       "       'Location'],\n",
       "      dtype='object')"
      ]
     },
     "execution_count": 7,
     "metadata": {},
     "output_type": "execute_result"
    }
   ],
   "source": [
    "# Columnas de la base\n",
    "inspect_df.columns"
   ]
  },
  {
   "cell_type": "markdown",
   "metadata": {},
   "source": [
    "### Renombramos columnas para que tengan nombres más manejables"
   ]
  },
  {
   "cell_type": "code",
   "execution_count": 8,
   "metadata": {},
   "outputs": [],
   "source": [
    "# eliminar \"#\"\n",
    "inspect_df.columns = inspect_df.columns.str.replace('#','')\n",
    "# Elimina espacios alrededor\n",
    "inspect_df.columns = inspect_df.columns.str.strip() \n",
    "# Cambia espacios por \"_\"\n",
    "inspect_df.columns = inspect_df.columns.str.replace(' ','_')\n",
    "# Cambiar a minúsculas\n",
    "inspect_df.columns = inspect_df.columns.str.lower()"
   ]
  },
  {
   "cell_type": "code",
   "execution_count": 9,
   "metadata": {
    "collapsed": false,
    "jupyter": {
     "outputs_hidden": false
    }
   },
   "outputs": [
    {
     "data": {
      "text/plain": [
       "inspection_id        int64\n",
       "dba_name            object\n",
       "aka_name            object\n",
       "license            float64\n",
       "facility_type       object\n",
       "risk                object\n",
       "address             object\n",
       "city                object\n",
       "state               object\n",
       "zip                float64\n",
       "inspection_date     object\n",
       "inspection_type     object\n",
       "results             object\n",
       "violations          object\n",
       "latitude           float64\n",
       "longitude          float64\n",
       "location            object\n",
       "dtype: object"
      ]
     },
     "execution_count": 9,
     "metadata": {},
     "output_type": "execute_result"
    }
   ],
   "source": [
    "inspect_df.dtypes"
   ]
  },
  {
   "cell_type": "markdown",
   "metadata": {},
   "source": [
    "### Cambiamos la fecha de inspección a formato fecha"
   ]
  },
  {
   "cell_type": "code",
   "execution_count": 10,
   "metadata": {
    "collapsed": false,
    "jupyter": {
     "outputs_hidden": false
    }
   },
   "outputs": [],
   "source": [
    "inspect_df['inspection_date']= pd.to_datetime(inspect_df['inspection_date'])"
   ]
  },
  {
   "cell_type": "code",
   "execution_count": 11,
   "metadata": {
    "collapsed": false,
    "jupyter": {
     "outputs_hidden": false
    },
    "scrolled": true
   },
   "outputs": [
    {
     "data": {
      "text/plain": [
       "inspection_id               int64\n",
       "dba_name                   object\n",
       "aka_name                   object\n",
       "license                   float64\n",
       "facility_type              object\n",
       "risk                       object\n",
       "address                    object\n",
       "city                       object\n",
       "state                      object\n",
       "zip                       float64\n",
       "inspection_date    datetime64[ns]\n",
       "inspection_type            object\n",
       "results                    object\n",
       "violations                 object\n",
       "latitude                  float64\n",
       "longitude                 float64\n",
       "location                   object\n",
       "dtype: object"
      ]
     },
     "execution_count": 11,
     "metadata": {},
     "output_type": "execute_result"
    }
   ],
   "source": [
    "inspect_df.dtypes"
   ]
  },
  {
   "cell_type": "markdown",
   "metadata": {},
   "source": [
    "### Analizamos la frecuencia de la variable 'results'"
   ]
  },
  {
   "cell_type": "code",
   "execution_count": 12,
   "metadata": {
    "collapsed": false,
    "jupyter": {
     "outputs_hidden": false
    }
   },
   "outputs": [
    {
     "data": {
      "text/plain": [
       "array(['Not Ready', 'Pass', 'No Entry', 'Out of Business', 'Fail',\n",
       "       'Pass w/ Conditions', 'Business Not Located'], dtype=object)"
      ]
     },
     "execution_count": 12,
     "metadata": {},
     "output_type": "execute_result"
    }
   ],
   "source": [
    "inspect_df.results.unique()"
   ]
  },
  {
   "cell_type": "code",
   "execution_count": 13,
   "metadata": {
    "collapsed": false,
    "jupyter": {
     "outputs_hidden": false
    }
   },
   "outputs": [
    {
     "data": {
      "text/plain": [
       "<AxesSubplot:title={'center':'Frecuencia resultados'}>"
      ]
     },
     "execution_count": 13,
     "metadata": {},
     "output_type": "execute_result"
    },
    {
     "data": {
      "image/png": "[encoded data removed]",
      "text/plain": [
       "<Figure size 432x288 with 1 Axes>"
      ]
     },
     "metadata": {
      "needs_background": "light"
     },
     "output_type": "display_data"
    }
   ],
   "source": [
    "inspect_df['results'].value_counts().plot.bar(title='Frecuencia resultados')"
   ]
  },
  {
   "cell_type": "markdown",
   "metadata": {},
   "source": [
    "### Creamos una variable indicadora para aquellos establecimientos que no pasan la inspección"
   ]
  },
  {
   "cell_type": "code",
   "execution_count": 14,
   "metadata": {
    "collapsed": false,
    "jupyter": {
     "outputs_hidden": false
    },
    "scrolled": true
   },
   "outputs": [
    {
     "data": {
      "text/html": [
       "<div>\n",
       "<style scoped>\n",
       "    .dataframe tbody tr th:only-of-type {\n",
       "        vertical-align: middle;\n",
       "    }\n",
       "\n",
       "    .dataframe tbody tr th {\n",
       "        vertical-align: top;\n",
       "    }\n",
       "\n",
       "    .dataframe thead th {\n",
       "        text-align: right;\n",
       "    }\n",
       "</style>\n",
       "<table border=\"1\" class=\"dataframe\">\n",
       "  <thead>\n",
       "    <tr style=\"text-align: right;\">\n",
       "      <th></th>\n",
       "      <th>inspection_id</th>\n",
       "      <th>dba_name</th>\n",
       "      <th>aka_name</th>\n",
       "      <th>license</th>\n",
       "      <th>facility_type</th>\n",
       "      <th>risk</th>\n",
       "      <th>address</th>\n",
       "      <th>city</th>\n",
       "      <th>state</th>\n",
       "      <th>zip</th>\n",
       "      <th>inspection_date</th>\n",
       "      <th>inspection_type</th>\n",
       "      <th>results</th>\n",
       "      <th>violations</th>\n",
       "      <th>latitude</th>\n",
       "      <th>longitude</th>\n",
       "      <th>location</th>\n",
       "      <th>ind_fail</th>\n",
       "      <th>inspection_year</th>\n",
       "    </tr>\n",
       "  </thead>\n",
       "  <tbody>\n",
       "    <tr>\n",
       "      <th>0</th>\n",
       "      <td>2472391</td>\n",
       "      <td>PHILZ COFFEE</td>\n",
       "      <td>PHILZ COFFEE</td>\n",
       "      <td>2766979.0</td>\n",
       "      <td>NaN</td>\n",
       "      <td>Risk 2 (Medium)</td>\n",
       "      <td>1555 N WELLS ST</td>\n",
       "      <td>CHICAGO</td>\n",
       "      <td>IL</td>\n",
       "      <td>60610.0</td>\n",
       "      <td>2021-01-07</td>\n",
       "      <td>License</td>\n",
       "      <td>Not Ready</td>\n",
       "      <td>NaN</td>\n",
       "      <td>41.910736</td>\n",
       "      <td>-87.634551</td>\n",
       "      <td>(-87.63455069145124, 41.910736031820235)</td>\n",
       "      <td>0</td>\n",
       "      <td>2021</td>\n",
       "    </tr>\n",
       "    <tr>\n",
       "      <th>1</th>\n",
       "      <td>2453551</td>\n",
       "      <td>BIAN</td>\n",
       "      <td>BIAN</td>\n",
       "      <td>2744753.0</td>\n",
       "      <td>Restaurant</td>\n",
       "      <td>Risk 1 (High)</td>\n",
       "      <td>600 W CHICAGO AVE</td>\n",
       "      <td>CHICAGO</td>\n",
       "      <td>IL</td>\n",
       "      <td>60654.0</td>\n",
       "      <td>2020-10-20</td>\n",
       "      <td>License</td>\n",
       "      <td>Pass</td>\n",
       "      <td>NaN</td>\n",
       "      <td>41.896585</td>\n",
       "      <td>-87.642996</td>\n",
       "      <td>(-87.64299618172501, 41.896585191199556)</td>\n",
       "      <td>0</td>\n",
       "      <td>2020</td>\n",
       "    </tr>\n",
       "    <tr>\n",
       "      <th>2</th>\n",
       "      <td>2386633</td>\n",
       "      <td>JIN JU</td>\n",
       "      <td>JIN JU</td>\n",
       "      <td>27137.0</td>\n",
       "      <td>Restaurant</td>\n",
       "      <td>Risk 1 (High)</td>\n",
       "      <td>5203 N CLARK ST</td>\n",
       "      <td>CHICAGO</td>\n",
       "      <td>IL</td>\n",
       "      <td>60640.0</td>\n",
       "      <td>2020-08-28</td>\n",
       "      <td>Canvass</td>\n",
       "      <td>No Entry</td>\n",
       "      <td>NaN</td>\n",
       "      <td>41.976301</td>\n",
       "      <td>-87.668276</td>\n",
       "      <td>(-87.66827593789948, 41.97630115368914)</td>\n",
       "      <td>0</td>\n",
       "      <td>2020</td>\n",
       "    </tr>\n",
       "    <tr>\n",
       "      <th>3</th>\n",
       "      <td>2386595</td>\n",
       "      <td>LA BIZNAGA #2</td>\n",
       "      <td>LA BIZNAGA #2</td>\n",
       "      <td>2708992.0</td>\n",
       "      <td>NaN</td>\n",
       "      <td>Risk 1 (High)</td>\n",
       "      <td>2949 W BELMONT AVE</td>\n",
       "      <td>CHICAGO</td>\n",
       "      <td>IL</td>\n",
       "      <td>60618.0</td>\n",
       "      <td>2020-08-27</td>\n",
       "      <td>Complaint</td>\n",
       "      <td>No Entry</td>\n",
       "      <td>NaN</td>\n",
       "      <td>41.939256</td>\n",
       "      <td>-87.702270</td>\n",
       "      <td>(-87.70226967930802, 41.939255926667535)</td>\n",
       "      <td>0</td>\n",
       "      <td>2020</td>\n",
       "    </tr>\n",
       "    <tr>\n",
       "      <th>4</th>\n",
       "      <td>2386523</td>\n",
       "      <td>MC DONALD'S</td>\n",
       "      <td>MC DONALD'S</td>\n",
       "      <td>2560785.0</td>\n",
       "      <td>Restaurant</td>\n",
       "      <td>Risk 2 (Medium)</td>\n",
       "      <td>6336 S ASHLAND AVE</td>\n",
       "      <td>CHICAGO</td>\n",
       "      <td>IL</td>\n",
       "      <td>60636.0</td>\n",
       "      <td>2020-08-26</td>\n",
       "      <td>Short Form Complaint</td>\n",
       "      <td>Pass</td>\n",
       "      <td>NaN</td>\n",
       "      <td>41.778361</td>\n",
       "      <td>-87.664337</td>\n",
       "      <td>(-87.66433686342792, 41.77836097603761)</td>\n",
       "      <td>0</td>\n",
       "      <td>2020</td>\n",
       "    </tr>\n",
       "  </tbody>\n",
       "</table>\n",
       "</div>"
      ],
      "text/plain": [
       "   inspection_id       dba_name       aka_name    license facility_type  \\\n",
       "0        2472391   PHILZ COFFEE   PHILZ COFFEE  2766979.0           NaN   \n",
       "1        2453551           BIAN           BIAN  2744753.0    Restaurant   \n",
       "2        2386633         JIN JU         JIN JU    27137.0    Restaurant   \n",
       "3        2386595  LA BIZNAGA #2  LA BIZNAGA #2  2708992.0           NaN   \n",
       "4        2386523    MC DONALD'S    MC DONALD'S  2560785.0    Restaurant   \n",
       "\n",
       "              risk              address     city state      zip  \\\n",
       "0  Risk 2 (Medium)     1555 N WELLS ST   CHICAGO    IL  60610.0   \n",
       "1    Risk 1 (High)   600 W CHICAGO AVE   CHICAGO    IL  60654.0   \n",
       "2    Risk 1 (High)     5203 N CLARK ST   CHICAGO    IL  60640.0   \n",
       "3    Risk 1 (High)  2949 W BELMONT AVE   CHICAGO    IL  60618.0   \n",
       "4  Risk 2 (Medium)  6336 S ASHLAND AVE   CHICAGO    IL  60636.0   \n",
       "\n",
       "  inspection_date       inspection_type    results violations   latitude  \\\n",
       "0      2021-01-07               License  Not Ready        NaN  41.910736   \n",
       "1      2020-10-20               License       Pass        NaN  41.896585   \n",
       "2      2020-08-28               Canvass   No Entry        NaN  41.976301   \n",
       "3      2020-08-27             Complaint   No Entry        NaN  41.939256   \n",
       "4      2020-08-26  Short Form Complaint       Pass        NaN  41.778361   \n",
       "\n",
       "   longitude                                  location  ind_fail  \\\n",
       "0 -87.634551  (-87.63455069145124, 41.910736031820235)         0   \n",
       "1 -87.642996  (-87.64299618172501, 41.896585191199556)         0   \n",
       "2 -87.668276   (-87.66827593789948, 41.97630115368914)         0   \n",
       "3 -87.702270  (-87.70226967930802, 41.939255926667535)         0   \n",
       "4 -87.664337   (-87.66433686342792, 41.77836097603761)         0   \n",
       "\n",
       "   inspection_year  \n",
       "0             2021  \n",
       "1             2020  \n",
       "2             2020  \n",
       "3             2020  \n",
       "4             2020  "
      ]
     },
     "execution_count": 14,
     "metadata": {},
     "output_type": "execute_result"
    }
   ],
   "source": [
    "# Variable Indicadora de \"Fail\" de la inspección\n",
    "inspect_df['ind_fail'] = inspect_df['results'].apply(lambda x: 1 if x == 'Fail' else 0)\n",
    "# Se crea la variale año de inspección\n",
    "inspect_df['inspection_year'] = pd.DatetimeIndex(inspect_df['inspection_date']).year \n",
    "inspect_df.head()"
   ]
  },
  {
   "cell_type": "markdown",
   "metadata": {},
   "source": [
    "### Frecuencia de inspecciones reportadas por año"
   ]
  },
  {
   "cell_type": "code",
   "execution_count": 15,
   "metadata": {
    "collapsed": false,
    "jupyter": {
     "outputs_hidden": false
    }
   },
   "outputs": [
    {
     "data": {
      "text/plain": [
       "<AxesSubplot:title={'center':'Frecuencia por año'}>"
      ]
     },
     "execution_count": 15,
     "metadata": {},
     "output_type": "execute_result"
    },
    {
     "data": {
      "image/png": "[encoded data removed]",
      "text/plain": [
       "<Figure size 432x288 with 1 Axes>"
      ]
     },
     "metadata": {
      "needs_background": "light"
     },
     "output_type": "display_data"
    }
   ],
   "source": [
    "inspect_df['inspection_year'].value_counts().plot.bar(title='Frecuencia por año')"
   ]
  },
  {
   "cell_type": "code",
   "execution_count": 16,
   "metadata": {},
   "outputs": [
    {
     "data": {
      "image/png": "[encoded data removed]",
      "text/plain": [
       "<Figure size 576x360 with 1 Axes>"
      ]
     },
     "metadata": {
      "needs_background": "light"
     },
     "output_type": "display_data"
    }
   ],
   "source": [
    "inspect_df.groupby(['inspection_year','results']).size().unstack().plot(\n",
    "    kind='line',stacked=True, title='Frecuencia de TODOS los tipos de inspecciones', figsize=(8,5))\n",
    "plt.show()"
   ]
  },
  {
   "cell_type": "code",
   "execution_count": 17,
   "metadata": {},
   "outputs": [
    {
     "data": {
      "image/png": "[encoded data removed]",
      "text/plain": [
       "<Figure size 576x360 with 1 Axes>"
      ]
     },
     "metadata": {
      "needs_background": "light"
     },
     "output_type": "display_data"
    }
   ],
   "source": [
    "inspect_df[(inspect_df['results'] == 'Fail') | (inspect_df['results'] == 'Pass')].groupby(\n",
    "    ['inspection_year','results']).size().unstack().plot(kind='line',stacked=True, \n",
    "                                                         title='Frecuencia de los tipos de inspeccion (Fail & Pass)', figsize=(8,5))\n",
    "plt.show()"
   ]
  },
  {
   "cell_type": "code",
   "execution_count": 18,
   "metadata": {},
   "outputs": [
    {
     "data": {
      "image/png": "[encoded data removed]",
      "text/plain": [
       "<Figure size 576x360 with 1 Axes>"
      ]
     },
     "metadata": {
      "needs_background": "light"
     },
     "output_type": "display_data"
    }
   ],
   "source": [
    "inspect_df.groupby(['inspection_year','results']).size().groupby(\n",
    "    level=0).apply(lambda x: 100 * x / x.sum()\n",
    ").unstack().plot(kind='line',stacked=True, title='Frecuencia de TODOS los tipos de inspecciones NORMALIZADO', figsize=(8,5))\n",
    "\n",
    "plt.gca().yaxis.set_major_formatter(mtick.PercentFormatter())\n",
    "plt.show()"
   ]
  },
  {
   "cell_type": "markdown",
   "metadata": {},
   "source": [
    "### Para cada año obtenemos la tasa en la que reprueban las inspecciones"
   ]
  },
  {
   "cell_type": "code",
   "execution_count": 19,
   "metadata": {
    "collapsed": false,
    "jupyter": {
     "outputs_hidden": false
    }
   },
   "outputs": [
    {
     "data": {
      "image/png": "[encoded data removed]",
      "text/plain": [
       "<Figure size 432x288 with 1 Axes>"
      ]
     },
     "metadata": {
      "needs_background": "light"
     },
     "output_type": "display_data"
    }
   ],
   "source": [
    "# Identificamos la tasa en la que reprueban los restaurantes por año\n",
    "sns.barplot(x = \"inspection_year\", y = \"ind_fail\", data = inspect_df)\n",
    "plt.show()"
   ]
  },
  {
   "cell_type": "markdown",
   "metadata": {},
   "source": [
    "### Existe una variable 'Risk', esperariamos que tenga relación con los resultados de la inspección"
   ]
  },
  {
   "cell_type": "code",
   "execution_count": 20,
   "metadata": {
    "collapsed": false,
    "jupyter": {
     "outputs_hidden": false
    }
   },
   "outputs": [
    {
     "data": {
      "image/png": "[encoded data removed]",
      "text/plain": [
       "<Figure size 432x288 with 1 Axes>"
      ]
     },
     "metadata": {
      "needs_background": "light"
     },
     "output_type": "display_data"
    }
   ],
   "source": [
    "# Identificamos una tendencia contraintuitiva entre el nivel de riesgo y la tasa en la que reprueban los restaurantes\n",
    "sns.barplot(x = \"risk\", y = \"ind_fail\", data = inspect_df)\n",
    "plt.show()"
   ]
  },
  {
   "cell_type": "markdown",
   "metadata": {},
   "source": [
    "### Revisamos los valores y la frecuencia con la que aparecen en otras variables"
   ]
  },
  {
   "cell_type": "code",
   "execution_count": 21,
   "metadata": {
    "collapsed": false,
    "jupyter": {
     "outputs_hidden": false
    }
   },
   "outputs": [
    {
     "data": {
      "text/plain": [
       "array(['CHICAGO', 'Chicago', 'SCHAUMBURG', 'ELMHURST', 'CHICAGO.',\n",
       "       'WILMETTE', 'chicago', nan, 'MAYWOOD', 'ELK GROVE VILLAGE',\n",
       "       'BLOOMINGDALE', 'CICERO', 'CHCHICAGO', 'JUSTICE', 'TINLEY PARK',\n",
       "       'BOLINGBROOK', 'INACTIVE', 'LAKE ZURICH', 'WORTH',\n",
       "       'CHARLES A HAYES', 'ALSIP', 'OAK PARK', 'CCHICAGO',\n",
       "       'CHICAGOCHICAGO', 'BERWYN', 'CHicago', 'EVANSTON', '312CHICAGO',\n",
       "       'chicagoBEDFORD PARK', 'CHICAGOHICAGO', 'BRIDGEVIEW', 'NEW YORK',\n",
       "       'GRIFFITH', 'LANSING', 'NILES NILES', 'NEW HOLSTEIN', 'ALGONQUIN',\n",
       "       'WADSWORTH', 'WHEATON', 'ROSEMONT', 'CALUMET CITY',\n",
       "       'HIGHLAND PARK', 'PLAINFIELD', 'PALOS PARK', 'LAKE BLUFF',\n",
       "       'SCHILLER PARK', 'SKOKIE', 'BANNOCKBURNDEERFIELD', 'CHCICAGO',\n",
       "       'Norridge', 'CHICAGOI', 'EAST HAZEL CREST', 'CHICAGO HEIGHTS',\n",
       "       'WESTMONT', 'SUMMIT', 'OOLYMPIA FIELDS', 'LOMBARD',\n",
       "       'COUNTRY CLUB HILLS', 'STREAMWOOD', 'BURNHAM', 'DES PLAINES',\n",
       "       'OAK LAWN', 'BLUE ISLAND', 'GLENCOE', 'OLYMPIA FIELDS', 'alsip',\n",
       "       'FRANKFORT', 'BROADVIEW', 'NAPERVILLE', 'Maywood',\n",
       "       'EVERGREEN PARK'], dtype=object)"
      ]
     },
     "execution_count": 21,
     "metadata": {},
     "output_type": "execute_result"
    }
   ],
   "source": [
    "# Identificamos que la variable 'city' requerirá un tratamiento adicional.\n",
    "inspect_df.city.unique()"
   ]
  },
  {
   "cell_type": "code",
   "execution_count": 22,
   "metadata": {
    "collapsed": false,
    "jupyter": {
     "outputs_hidden": false
    }
   },
   "outputs": [
    {
     "data": {
      "text/plain": [
       "array(['chicago', 'schaumburg', 'elmhurst', 'chicago.', 'wilmette', nan,\n",
       "       'maywood', 'elk grove village', 'bloomingdale', 'cicero',\n",
       "       'chchicago', 'justice', 'tinley park', 'bolingbrook', 'inactive',\n",
       "       'lake zurich', 'worth', 'charles a hayes', 'alsip', 'oak park',\n",
       "       'cchicago', 'chicagochicago', 'berwyn', 'evanston', '312chicago',\n",
       "       'chicagobedford park', 'chicagohicago', 'bridgeview', 'new york',\n",
       "       'griffith', 'lansing', 'niles niles', 'new holstein', 'algonquin',\n",
       "       'wadsworth', 'wheaton', 'rosemont', 'calumet city',\n",
       "       'highland park', 'plainfield', 'palos park', 'lake bluff',\n",
       "       'schiller park', 'skokie', 'bannockburndeerfield', 'chcicago',\n",
       "       'norridge', 'chicagoi', 'east hazel crest', 'chicago heights',\n",
       "       'westmont', 'summit', 'oolympia fields', 'lombard',\n",
       "       'country club hills', 'streamwood', 'burnham', 'des plaines',\n",
       "       'oak lawn', 'blue island', 'glencoe', 'olympia fields',\n",
       "       'frankfort', 'broadview', 'naperville', 'evergreen park'],\n",
       "      dtype=object)"
      ]
     },
     "execution_count": 22,
     "metadata": {},
     "output_type": "execute_result"
    }
   ],
   "source": [
    "inspect_df['city'] = inspect_df['city'].apply(lambda x: x if type(x)!=str else x.lower())\n",
    "inspect_df.city.unique()"
   ]
  },
  {
   "cell_type": "code",
   "execution_count": 23,
   "metadata": {
    "collapsed": false,
    "jupyter": {
     "outputs_hidden": false
    }
   },
   "outputs": [
    {
     "data": {
      "text/plain": [
       "array(['IL', nan, 'NY', 'IN', 'WI'], dtype=object)"
      ]
     },
     "execution_count": 23,
     "metadata": {},
     "output_type": "execute_result"
    }
   ],
   "source": [
    "# parece ser que hay información de más de un estado (IL)\n",
    "inspect_df.state.unique()"
   ]
  },
  {
   "cell_type": "code",
   "execution_count": 24,
   "metadata": {
    "collapsed": false,
    "jupyter": {
     "outputs_hidden": false
    }
   },
   "outputs": [
    {
     "data": {
      "text/html": [
       "<div>\n",
       "<style scoped>\n",
       "    .dataframe tbody tr th:only-of-type {\n",
       "        vertical-align: middle;\n",
       "    }\n",
       "\n",
       "    .dataframe tbody tr th {\n",
       "        vertical-align: top;\n",
       "    }\n",
       "\n",
       "    .dataframe thead th {\n",
       "        text-align: right;\n",
       "    }\n",
       "</style>\n",
       "<table border=\"1\" class=\"dataframe\">\n",
       "  <thead>\n",
       "    <tr style=\"text-align: right;\">\n",
       "      <th></th>\n",
       "      <th>inspection_id</th>\n",
       "      <th>dba_name</th>\n",
       "      <th>aka_name</th>\n",
       "      <th>license</th>\n",
       "      <th>facility_type</th>\n",
       "      <th>risk</th>\n",
       "      <th>address</th>\n",
       "      <th>city</th>\n",
       "      <th>zip</th>\n",
       "      <th>inspection_date</th>\n",
       "      <th>inspection_type</th>\n",
       "      <th>results</th>\n",
       "      <th>violations</th>\n",
       "      <th>latitude</th>\n",
       "      <th>longitude</th>\n",
       "      <th>location</th>\n",
       "      <th>ind_fail</th>\n",
       "      <th>inspection_year</th>\n",
       "    </tr>\n",
       "    <tr>\n",
       "      <th>state</th>\n",
       "      <th></th>\n",
       "      <th></th>\n",
       "      <th></th>\n",
       "      <th></th>\n",
       "      <th></th>\n",
       "      <th></th>\n",
       "      <th></th>\n",
       "      <th></th>\n",
       "      <th></th>\n",
       "      <th></th>\n",
       "      <th></th>\n",
       "      <th></th>\n",
       "      <th></th>\n",
       "      <th></th>\n",
       "      <th></th>\n",
       "      <th></th>\n",
       "      <th></th>\n",
       "      <th></th>\n",
       "    </tr>\n",
       "  </thead>\n",
       "  <tbody>\n",
       "    <tr>\n",
       "      <th>IL</th>\n",
       "      <td>215077</td>\n",
       "      <td>215077</td>\n",
       "      <td>212590</td>\n",
       "      <td>215060</td>\n",
       "      <td>210186</td>\n",
       "      <td>215008</td>\n",
       "      <td>215077</td>\n",
       "      <td>214941</td>\n",
       "      <td>215025</td>\n",
       "      <td>215077</td>\n",
       "      <td>215076</td>\n",
       "      <td>215077</td>\n",
       "      <td>157653</td>\n",
       "      <td>214370</td>\n",
       "      <td>214370</td>\n",
       "      <td>214370</td>\n",
       "      <td>215077</td>\n",
       "      <td>215077</td>\n",
       "    </tr>\n",
       "    <tr>\n",
       "      <th>IN</th>\n",
       "      <td>1</td>\n",
       "      <td>1</td>\n",
       "      <td>1</td>\n",
       "      <td>1</td>\n",
       "      <td>1</td>\n",
       "      <td>1</td>\n",
       "      <td>1</td>\n",
       "      <td>1</td>\n",
       "      <td>1</td>\n",
       "      <td>1</td>\n",
       "      <td>1</td>\n",
       "      <td>1</td>\n",
       "      <td>1</td>\n",
       "      <td>0</td>\n",
       "      <td>0</td>\n",
       "      <td>0</td>\n",
       "      <td>1</td>\n",
       "      <td>1</td>\n",
       "    </tr>\n",
       "    <tr>\n",
       "      <th>NY</th>\n",
       "      <td>1</td>\n",
       "      <td>1</td>\n",
       "      <td>1</td>\n",
       "      <td>1</td>\n",
       "      <td>0</td>\n",
       "      <td>1</td>\n",
       "      <td>1</td>\n",
       "      <td>1</td>\n",
       "      <td>1</td>\n",
       "      <td>1</td>\n",
       "      <td>1</td>\n",
       "      <td>1</td>\n",
       "      <td>1</td>\n",
       "      <td>0</td>\n",
       "      <td>0</td>\n",
       "      <td>0</td>\n",
       "      <td>1</td>\n",
       "      <td>1</td>\n",
       "    </tr>\n",
       "    <tr>\n",
       "      <th>WI</th>\n",
       "      <td>1</td>\n",
       "      <td>1</td>\n",
       "      <td>1</td>\n",
       "      <td>1</td>\n",
       "      <td>1</td>\n",
       "      <td>1</td>\n",
       "      <td>1</td>\n",
       "      <td>1</td>\n",
       "      <td>1</td>\n",
       "      <td>1</td>\n",
       "      <td>1</td>\n",
       "      <td>1</td>\n",
       "      <td>1</td>\n",
       "      <td>0</td>\n",
       "      <td>0</td>\n",
       "      <td>0</td>\n",
       "      <td>1</td>\n",
       "      <td>1</td>\n",
       "    </tr>\n",
       "  </tbody>\n",
       "</table>\n",
       "</div>"
      ],
      "text/plain": [
       "       inspection_id  dba_name  aka_name  license  facility_type    risk  \\\n",
       "state                                                                      \n",
       "IL            215077    215077    212590   215060         210186  215008   \n",
       "IN                 1         1         1        1              1       1   \n",
       "NY                 1         1         1        1              0       1   \n",
       "WI                 1         1         1        1              1       1   \n",
       "\n",
       "       address    city     zip  inspection_date  inspection_type  results  \\\n",
       "state                                                                       \n",
       "IL      215077  214941  215025           215077           215076   215077   \n",
       "IN           1       1       1                1                1        1   \n",
       "NY           1       1       1                1                1        1   \n",
       "WI           1       1       1                1                1        1   \n",
       "\n",
       "       violations  latitude  longitude  location  ind_fail  inspection_year  \n",
       "state                                                                        \n",
       "IL         157653    214370     214370    214370    215077           215077  \n",
       "IN              1         0          0         0         1                1  \n",
       "NY              1         0          0         0         1                1  \n",
       "WI              1         0          0         0         1                1  "
      ]
     },
     "execution_count": 24,
     "metadata": {},
     "output_type": "execute_result"
    }
   ],
   "source": [
    "# Todo indica que se trata de un error, por la baja frecuencia de estos casos es prudente eliminar las observaciones\n",
    "inspect_df.groupby(['state']).count()"
   ]
  },
  {
   "cell_type": "code",
   "execution_count": 25,
   "metadata": {
    "collapsed": false,
    "jupyter": {
     "outputs_hidden": false
    }
   },
   "outputs": [],
   "source": [
    "inspect_df = inspect_df[(inspect_df.state == \"IL\")]"
   ]
  },
  {
   "cell_type": "code",
   "execution_count": 26,
   "metadata": {
    "collapsed": false,
    "jupyter": {
     "outputs_hidden": false
    }
   },
   "outputs": [
    {
     "data": {
      "text/html": [
       "<div>\n",
       "<style scoped>\n",
       "    .dataframe tbody tr th:only-of-type {\n",
       "        vertical-align: middle;\n",
       "    }\n",
       "\n",
       "    .dataframe tbody tr th {\n",
       "        vertical-align: top;\n",
       "    }\n",
       "\n",
       "    .dataframe thead th {\n",
       "        text-align: right;\n",
       "    }\n",
       "</style>\n",
       "<table border=\"1\" class=\"dataframe\">\n",
       "  <thead>\n",
       "    <tr style=\"text-align: right;\">\n",
       "      <th></th>\n",
       "      <th>inspection_id</th>\n",
       "      <th>dba_name</th>\n",
       "      <th>aka_name</th>\n",
       "      <th>license</th>\n",
       "      <th>facility_type</th>\n",
       "      <th>risk</th>\n",
       "      <th>address</th>\n",
       "      <th>city</th>\n",
       "      <th>zip</th>\n",
       "      <th>inspection_date</th>\n",
       "      <th>inspection_type</th>\n",
       "      <th>results</th>\n",
       "      <th>violations</th>\n",
       "      <th>latitude</th>\n",
       "      <th>longitude</th>\n",
       "      <th>location</th>\n",
       "      <th>ind_fail</th>\n",
       "      <th>inspection_year</th>\n",
       "    </tr>\n",
       "    <tr>\n",
       "      <th>state</th>\n",
       "      <th></th>\n",
       "      <th></th>\n",
       "      <th></th>\n",
       "      <th></th>\n",
       "      <th></th>\n",
       "      <th></th>\n",
       "      <th></th>\n",
       "      <th></th>\n",
       "      <th></th>\n",
       "      <th></th>\n",
       "      <th></th>\n",
       "      <th></th>\n",
       "      <th></th>\n",
       "      <th></th>\n",
       "      <th></th>\n",
       "      <th></th>\n",
       "      <th></th>\n",
       "      <th></th>\n",
       "    </tr>\n",
       "  </thead>\n",
       "  <tbody>\n",
       "    <tr>\n",
       "      <th>IL</th>\n",
       "      <td>215077</td>\n",
       "      <td>215077</td>\n",
       "      <td>212590</td>\n",
       "      <td>215060</td>\n",
       "      <td>210186</td>\n",
       "      <td>215008</td>\n",
       "      <td>215077</td>\n",
       "      <td>214941</td>\n",
       "      <td>215025</td>\n",
       "      <td>215077</td>\n",
       "      <td>215076</td>\n",
       "      <td>215077</td>\n",
       "      <td>157653</td>\n",
       "      <td>214370</td>\n",
       "      <td>214370</td>\n",
       "      <td>214370</td>\n",
       "      <td>215077</td>\n",
       "      <td>215077</td>\n",
       "    </tr>\n",
       "  </tbody>\n",
       "</table>\n",
       "</div>"
      ],
      "text/plain": [
       "       inspection_id  dba_name  aka_name  license  facility_type    risk  \\\n",
       "state                                                                      \n",
       "IL            215077    215077    212590   215060         210186  215008   \n",
       "\n",
       "       address    city     zip  inspection_date  inspection_type  results  \\\n",
       "state                                                                       \n",
       "IL      215077  214941  215025           215077           215076   215077   \n",
       "\n",
       "       violations  latitude  longitude  location  ind_fail  inspection_year  \n",
       "state                                                                        \n",
       "IL         157653    214370     214370    214370    215077           215077  "
      ]
     },
     "execution_count": 26,
     "metadata": {},
     "output_type": "execute_result"
    }
   ],
   "source": [
    "# Podemos verificar que esto resuelve el problema\n",
    "inspect_df.groupby(['state']).count()"
   ]
  },
  {
   "cell_type": "code",
   "execution_count": 27,
   "metadata": {
    "collapsed": false,
    "jupyter": {
     "outputs_hidden": false
    }
   },
   "outputs": [
    {
     "data": {
      "text/html": [
       "<div>\n",
       "<style scoped>\n",
       "    .dataframe tbody tr th:only-of-type {\n",
       "        vertical-align: middle;\n",
       "    }\n",
       "\n",
       "    .dataframe tbody tr th {\n",
       "        vertical-align: top;\n",
       "    }\n",
       "\n",
       "    .dataframe thead th {\n",
       "        text-align: right;\n",
       "    }\n",
       "</style>\n",
       "<table border=\"1\" class=\"dataframe\">\n",
       "  <thead>\n",
       "    <tr style=\"text-align: right;\">\n",
       "      <th></th>\n",
       "      <th>inspection_id</th>\n",
       "      <th>dba_name</th>\n",
       "      <th>aka_name</th>\n",
       "      <th>license</th>\n",
       "      <th>facility_type</th>\n",
       "      <th>address</th>\n",
       "      <th>city</th>\n",
       "      <th>state</th>\n",
       "      <th>zip</th>\n",
       "      <th>inspection_date</th>\n",
       "      <th>inspection_type</th>\n",
       "      <th>results</th>\n",
       "      <th>violations</th>\n",
       "      <th>latitude</th>\n",
       "      <th>longitude</th>\n",
       "      <th>location</th>\n",
       "      <th>ind_fail</th>\n",
       "      <th>inspection_year</th>\n",
       "    </tr>\n",
       "    <tr>\n",
       "      <th>risk</th>\n",
       "      <th></th>\n",
       "      <th></th>\n",
       "      <th></th>\n",
       "      <th></th>\n",
       "      <th></th>\n",
       "      <th></th>\n",
       "      <th></th>\n",
       "      <th></th>\n",
       "      <th></th>\n",
       "      <th></th>\n",
       "      <th></th>\n",
       "      <th></th>\n",
       "      <th></th>\n",
       "      <th></th>\n",
       "      <th></th>\n",
       "      <th></th>\n",
       "      <th></th>\n",
       "      <th></th>\n",
       "    </tr>\n",
       "  </thead>\n",
       "  <tbody>\n",
       "    <tr>\n",
       "      <th>All</th>\n",
       "      <td>29</td>\n",
       "      <td>29</td>\n",
       "      <td>19</td>\n",
       "      <td>29</td>\n",
       "      <td>10</td>\n",
       "      <td>29</td>\n",
       "      <td>29</td>\n",
       "      <td>29</td>\n",
       "      <td>29</td>\n",
       "      <td>29</td>\n",
       "      <td>29</td>\n",
       "      <td>29</td>\n",
       "      <td>0</td>\n",
       "      <td>29</td>\n",
       "      <td>29</td>\n",
       "      <td>29</td>\n",
       "      <td>29</td>\n",
       "      <td>29</td>\n",
       "    </tr>\n",
       "    <tr>\n",
       "      <th>Risk 1 (High)</th>\n",
       "      <td>153840</td>\n",
       "      <td>153840</td>\n",
       "      <td>152836</td>\n",
       "      <td>153835</td>\n",
       "      <td>152893</td>\n",
       "      <td>153840</td>\n",
       "      <td>153785</td>\n",
       "      <td>153840</td>\n",
       "      <td>153821</td>\n",
       "      <td>153840</td>\n",
       "      <td>153839</td>\n",
       "      <td>153840</td>\n",
       "      <td>118674</td>\n",
       "      <td>153406</td>\n",
       "      <td>153406</td>\n",
       "      <td>153406</td>\n",
       "      <td>153840</td>\n",
       "      <td>153840</td>\n",
       "    </tr>\n",
       "    <tr>\n",
       "      <th>Risk 2 (Medium)</th>\n",
       "      <td>41970</td>\n",
       "      <td>41970</td>\n",
       "      <td>41288</td>\n",
       "      <td>41958</td>\n",
       "      <td>41524</td>\n",
       "      <td>41970</td>\n",
       "      <td>41934</td>\n",
       "      <td>41970</td>\n",
       "      <td>41947</td>\n",
       "      <td>41970</td>\n",
       "      <td>41970</td>\n",
       "      <td>41970</td>\n",
       "      <td>29753</td>\n",
       "      <td>41832</td>\n",
       "      <td>41832</td>\n",
       "      <td>41832</td>\n",
       "      <td>41970</td>\n",
       "      <td>41970</td>\n",
       "    </tr>\n",
       "    <tr>\n",
       "      <th>Risk 3 (Low)</th>\n",
       "      <td>19169</td>\n",
       "      <td>19169</td>\n",
       "      <td>18408</td>\n",
       "      <td>19169</td>\n",
       "      <td>15744</td>\n",
       "      <td>19169</td>\n",
       "      <td>19127</td>\n",
       "      <td>19169</td>\n",
       "      <td>19159</td>\n",
       "      <td>19169</td>\n",
       "      <td>19169</td>\n",
       "      <td>19169</td>\n",
       "      <td>9224</td>\n",
       "      <td>19036</td>\n",
       "      <td>19036</td>\n",
       "      <td>19036</td>\n",
       "      <td>19169</td>\n",
       "      <td>19169</td>\n",
       "    </tr>\n",
       "  </tbody>\n",
       "</table>\n",
       "</div>"
      ],
      "text/plain": [
       "                 inspection_id  dba_name  aka_name  license  facility_type  \\\n",
       "risk                                                                         \n",
       "All                         29        29        19       29             10   \n",
       "Risk 1 (High)           153840    153840    152836   153835         152893   \n",
       "Risk 2 (Medium)          41970     41970     41288    41958          41524   \n",
       "Risk 3 (Low)             19169     19169     18408    19169          15744   \n",
       "\n",
       "                 address    city   state     zip  inspection_date  \\\n",
       "risk                                                                \n",
       "All                   29      29      29      29               29   \n",
       "Risk 1 (High)     153840  153785  153840  153821           153840   \n",
       "Risk 2 (Medium)    41970   41934   41970   41947            41970   \n",
       "Risk 3 (Low)       19169   19127   19169   19159            19169   \n",
       "\n",
       "                 inspection_type  results  violations  latitude  longitude  \\\n",
       "risk                                                                         \n",
       "All                           29       29           0        29         29   \n",
       "Risk 1 (High)             153839   153840      118674    153406     153406   \n",
       "Risk 2 (Medium)            41970    41970       29753     41832      41832   \n",
       "Risk 3 (Low)               19169    19169        9224     19036      19036   \n",
       "\n",
       "                 location  ind_fail  inspection_year  \n",
       "risk                                                  \n",
       "All                    29        29               29  \n",
       "Risk 1 (High)      153406    153840           153840  \n",
       "Risk 2 (Medium)     41832     41970            41970  \n",
       "Risk 3 (Low)        19036     19169            19169  "
      ]
     },
     "execution_count": 27,
     "metadata": {},
     "output_type": "execute_result"
    }
   ],
   "source": [
    "inspect_df.groupby(['risk']).count()"
   ]
  },
  {
   "cell_type": "code",
   "execution_count": 28,
   "metadata": {
    "collapsed": false,
    "jupyter": {
     "outputs_hidden": false
    },
    "scrolled": true
   },
   "outputs": [
    {
     "data": {
      "text/html": [
       "<div>\n",
       "<style scoped>\n",
       "    .dataframe tbody tr th:only-of-type {\n",
       "        vertical-align: middle;\n",
       "    }\n",
       "\n",
       "    .dataframe tbody tr th {\n",
       "        vertical-align: top;\n",
       "    }\n",
       "\n",
       "    .dataframe thead th {\n",
       "        text-align: right;\n",
       "    }\n",
       "</style>\n",
       "<table border=\"1\" class=\"dataframe\">\n",
       "  <thead>\n",
       "    <tr style=\"text-align: right;\">\n",
       "      <th></th>\n",
       "      <th>inspection_id</th>\n",
       "      <th>license</th>\n",
       "      <th>zip</th>\n",
       "      <th>latitude</th>\n",
       "      <th>longitude</th>\n",
       "      <th>ind_fail</th>\n",
       "      <th>inspection_year</th>\n",
       "    </tr>\n",
       "    <tr>\n",
       "      <th>risk</th>\n",
       "      <th></th>\n",
       "      <th></th>\n",
       "      <th></th>\n",
       "      <th></th>\n",
       "      <th></th>\n",
       "      <th></th>\n",
       "      <th></th>\n",
       "    </tr>\n",
       "  </thead>\n",
       "  <tbody>\n",
       "    <tr>\n",
       "      <th>All</th>\n",
       "      <td>1.861078e+06</td>\n",
       "      <td>2.254732e+06</td>\n",
       "      <td>60628.655172</td>\n",
       "      <td>41.854521</td>\n",
       "      <td>-87.650033</td>\n",
       "      <td>0.172414</td>\n",
       "      <td>2016.482759</td>\n",
       "    </tr>\n",
       "    <tr>\n",
       "      <th>Risk 1 (High)</th>\n",
       "      <td>1.557885e+06</td>\n",
       "      <td>1.599334e+06</td>\n",
       "      <td>60629.343016</td>\n",
       "      <td>41.886417</td>\n",
       "      <td>-87.676205</td>\n",
       "      <td>0.190354</td>\n",
       "      <td>2015.079180</td>\n",
       "    </tr>\n",
       "    <tr>\n",
       "      <th>Risk 2 (Medium)</th>\n",
       "      <td>1.486502e+06</td>\n",
       "      <td>1.711693e+06</td>\n",
       "      <td>60628.754428</td>\n",
       "      <td>41.863979</td>\n",
       "      <td>-87.674912</td>\n",
       "      <td>0.192542</td>\n",
       "      <td>2014.699333</td>\n",
       "    </tr>\n",
       "    <tr>\n",
       "      <th>Risk 3 (Low)</th>\n",
       "      <td>1.388237e+06</td>\n",
       "      <td>1.698888e+06</td>\n",
       "      <td>60627.836943</td>\n",
       "      <td>41.873837</td>\n",
       "      <td>-87.681699</td>\n",
       "      <td>0.215191</td>\n",
       "      <td>2014.278314</td>\n",
       "    </tr>\n",
       "  </tbody>\n",
       "</table>\n",
       "</div>"
      ],
      "text/plain": [
       "                 inspection_id       license           zip   latitude  \\\n",
       "risk                                                                    \n",
       "All               1.861078e+06  2.254732e+06  60628.655172  41.854521   \n",
       "Risk 1 (High)     1.557885e+06  1.599334e+06  60629.343016  41.886417   \n",
       "Risk 2 (Medium)   1.486502e+06  1.711693e+06  60628.754428  41.863979   \n",
       "Risk 3 (Low)      1.388237e+06  1.698888e+06  60627.836943  41.873837   \n",
       "\n",
       "                 longitude  ind_fail  inspection_year  \n",
       "risk                                                   \n",
       "All             -87.650033  0.172414      2016.482759  \n",
       "Risk 1 (High)   -87.676205  0.190354      2015.079180  \n",
       "Risk 2 (Medium) -87.674912  0.192542      2014.699333  \n",
       "Risk 3 (Low)    -87.681699  0.215191      2014.278314  "
      ]
     },
     "execution_count": 28,
     "metadata": {},
     "output_type": "execute_result"
    }
   ],
   "source": [
    "inspect_df.groupby(['risk']).mean()"
   ]
  },
  {
   "cell_type": "markdown",
   "metadata": {},
   "source": [
    "### La variable 'facility_type' podría agruparse para extraer mayor información"
   ]
  },
  {
   "cell_type": "code",
   "execution_count": 29,
   "metadata": {
    "collapsed": false,
    "jupyter": {
     "outputs_hidden": false
    }
   },
   "outputs": [
    {
     "data": {
      "text/html": [
       "<div>\n",
       "<style scoped>\n",
       "    .dataframe tbody tr th:only-of-type {\n",
       "        vertical-align: middle;\n",
       "    }\n",
       "\n",
       "    .dataframe tbody tr th {\n",
       "        vertical-align: top;\n",
       "    }\n",
       "\n",
       "    .dataframe thead th {\n",
       "        text-align: right;\n",
       "    }\n",
       "</style>\n",
       "<table border=\"1\" class=\"dataframe\">\n",
       "  <thead>\n",
       "    <tr style=\"text-align: right;\">\n",
       "      <th></th>\n",
       "      <th>inspection_id</th>\n",
       "      <th>license</th>\n",
       "      <th>zip</th>\n",
       "      <th>latitude</th>\n",
       "      <th>longitude</th>\n",
       "      <th>ind_fail</th>\n",
       "      <th>inspection_year</th>\n",
       "    </tr>\n",
       "    <tr>\n",
       "      <th>facility_type</th>\n",
       "      <th></th>\n",
       "      <th></th>\n",
       "      <th></th>\n",
       "      <th></th>\n",
       "      <th></th>\n",
       "      <th></th>\n",
       "      <th></th>\n",
       "    </tr>\n",
       "  </thead>\n",
       "  <tbody>\n",
       "    <tr>\n",
       "      <th>(convenience store)</th>\n",
       "      <td>4.012960e+05</td>\n",
       "      <td>5.363900e+04</td>\n",
       "      <td>60604.0</td>\n",
       "      <td>41.878288</td>\n",
       "      <td>-87.628176</td>\n",
       "      <td>0.000000</td>\n",
       "      <td>2010.000000</td>\n",
       "    </tr>\n",
       "    <tr>\n",
       "      <th>(gas station)</th>\n",
       "      <td>2.812955e+05</td>\n",
       "      <td>1.494617e+06</td>\n",
       "      <td>60649.0</td>\n",
       "      <td>41.757156</td>\n",
       "      <td>-87.558409</td>\n",
       "      <td>0.500000</td>\n",
       "      <td>2010.000000</td>\n",
       "    </tr>\n",
       "    <tr>\n",
       "      <th>1005 NURSING HOME</th>\n",
       "      <td>7.009170e+05</td>\n",
       "      <td>2.079400e+06</td>\n",
       "      <td>60659.0</td>\n",
       "      <td>41.995856</td>\n",
       "      <td>-87.699727</td>\n",
       "      <td>0.333333</td>\n",
       "      <td>2012.000000</td>\n",
       "    </tr>\n",
       "    <tr>\n",
       "      <th>1023</th>\n",
       "      <td>1.239234e+06</td>\n",
       "      <td>1.910848e+06</td>\n",
       "      <td>60639.0</td>\n",
       "      <td>41.909311</td>\n",
       "      <td>-87.779791</td>\n",
       "      <td>0.200000</td>\n",
       "      <td>2012.733333</td>\n",
       "    </tr>\n",
       "    <tr>\n",
       "      <th>1023 CHILDERN'S SERVICE FACILITY</th>\n",
       "      <td>1.594594e+06</td>\n",
       "      <td>2.112198e+06</td>\n",
       "      <td>60636.0</td>\n",
       "      <td>41.779934</td>\n",
       "      <td>-87.683806</td>\n",
       "      <td>0.200000</td>\n",
       "      <td>2014.800000</td>\n",
       "    </tr>\n",
       "    <tr>\n",
       "      <th>...</th>\n",
       "      <td>...</td>\n",
       "      <td>...</td>\n",
       "      <td>...</td>\n",
       "      <td>...</td>\n",
       "      <td>...</td>\n",
       "      <td>...</td>\n",
       "      <td>...</td>\n",
       "    </tr>\n",
       "    <tr>\n",
       "      <th>video store</th>\n",
       "      <td>8.518968e+05</td>\n",
       "      <td>1.070345e+06</td>\n",
       "      <td>60651.5</td>\n",
       "      <td>41.942810</td>\n",
       "      <td>-87.766067</td>\n",
       "      <td>0.000000</td>\n",
       "      <td>2012.000000</td>\n",
       "    </tr>\n",
       "    <tr>\n",
       "      <th>warehouse</th>\n",
       "      <td>1.227456e+06</td>\n",
       "      <td>4.629000e+03</td>\n",
       "      <td>60629.0</td>\n",
       "      <td>41.786585</td>\n",
       "      <td>-87.689514</td>\n",
       "      <td>0.500000</td>\n",
       "      <td>2012.000000</td>\n",
       "    </tr>\n",
       "    <tr>\n",
       "      <th>watermelon house</th>\n",
       "      <td>3.623577e+05</td>\n",
       "      <td>1.138764e+06</td>\n",
       "      <td>60628.0</td>\n",
       "      <td>41.710464</td>\n",
       "      <td>-87.643073</td>\n",
       "      <td>0.333333</td>\n",
       "      <td>2010.333333</td>\n",
       "    </tr>\n",
       "    <tr>\n",
       "      <th>weight loss program</th>\n",
       "      <td>1.332791e+06</td>\n",
       "      <td>1.139061e+06</td>\n",
       "      <td>60601.0</td>\n",
       "      <td>41.885444</td>\n",
       "      <td>-87.632582</td>\n",
       "      <td>0.000000</td>\n",
       "      <td>2014.000000</td>\n",
       "    </tr>\n",
       "    <tr>\n",
       "      <th>youth housing</th>\n",
       "      <td>2.234985e+06</td>\n",
       "      <td>2.528929e+06</td>\n",
       "      <td>60615.0</td>\n",
       "      <td>41.803731</td>\n",
       "      <td>-87.622545</td>\n",
       "      <td>0.000000</td>\n",
       "      <td>2018.333333</td>\n",
       "    </tr>\n",
       "  </tbody>\n",
       "</table>\n",
       "<p>500 rows × 7 columns</p>\n",
       "</div>"
      ],
      "text/plain": [
       "                                  inspection_id       license      zip  \\\n",
       "facility_type                                                            \n",
       "(convenience store)                4.012960e+05  5.363900e+04  60604.0   \n",
       "(gas station)                      2.812955e+05  1.494617e+06  60649.0   \n",
       "1005 NURSING HOME                  7.009170e+05  2.079400e+06  60659.0   \n",
       "1023                               1.239234e+06  1.910848e+06  60639.0   \n",
       "1023 CHILDERN'S SERVICE FACILITY   1.594594e+06  2.112198e+06  60636.0   \n",
       "...                                         ...           ...      ...   \n",
       "video store                        8.518968e+05  1.070345e+06  60651.5   \n",
       "warehouse                          1.227456e+06  4.629000e+03  60629.0   \n",
       "watermelon house                   3.623577e+05  1.138764e+06  60628.0   \n",
       "weight loss program                1.332791e+06  1.139061e+06  60601.0   \n",
       "youth housing                      2.234985e+06  2.528929e+06  60615.0   \n",
       "\n",
       "                                   latitude  longitude  ind_fail  \\\n",
       "facility_type                                                      \n",
       "(convenience store)               41.878288 -87.628176  0.000000   \n",
       "(gas station)                     41.757156 -87.558409  0.500000   \n",
       "1005 NURSING HOME                 41.995856 -87.699727  0.333333   \n",
       "1023                              41.909311 -87.779791  0.200000   \n",
       "1023 CHILDERN'S SERVICE FACILITY  41.779934 -87.683806  0.200000   \n",
       "...                                     ...        ...       ...   \n",
       "video store                       41.942810 -87.766067  0.000000   \n",
       "warehouse                         41.786585 -87.689514  0.500000   \n",
       "watermelon house                  41.710464 -87.643073  0.333333   \n",
       "weight loss program               41.885444 -87.632582  0.000000   \n",
       "youth housing                     41.803731 -87.622545  0.000000   \n",
       "\n",
       "                                  inspection_year  \n",
       "facility_type                                      \n",
       "(convenience store)                   2010.000000  \n",
       "(gas station)                         2010.000000  \n",
       "1005 NURSING HOME                     2012.000000  \n",
       "1023                                  2012.733333  \n",
       "1023 CHILDERN'S SERVICE FACILITY      2014.800000  \n",
       "...                                           ...  \n",
       "video store                           2012.000000  \n",
       "warehouse                             2012.000000  \n",
       "watermelon house                      2010.333333  \n",
       "weight loss program                   2014.000000  \n",
       "youth housing                         2018.333333  \n",
       "\n",
       "[500 rows x 7 columns]"
      ]
     },
     "execution_count": 29,
     "metadata": {},
     "output_type": "execute_result"
    }
   ],
   "source": [
    "inspect_df.groupby(['facility_type']).mean()"
   ]
  },
  {
   "cell_type": "code",
   "execution_count": null,
   "metadata": {
    "collapsed": true,
    "jupyter": {
     "outputs_hidden": true
    }
   },
   "outputs": [],
   "source": []
  },
  {
   "cell_type": "code",
   "execution_count": null,
   "metadata": {
    "collapsed": true,
    "jupyter": {
     "outputs_hidden": true
    }
   },
   "outputs": [],
   "source": []
  }
 ],
 "metadata": {
  "anaconda-cloud": {},
  "kernelspec": {
   "display_name": "Python 3",
   "language": "python",
   "name": "python3"
  },
  "language_info": {
   "codemirror_mode": {
    "name": "ipython",
    "version": 3
   },
   "file_extension": ".py",
   "mimetype": "text/x-python",
   "name": "python",
   "nbconvert_exporter": "python",
   "pygments_lexer": "ipython3",
   "version": "3.8.5"
  }
 },
 "nbformat": 4,
 "nbformat_minor": 4
}
